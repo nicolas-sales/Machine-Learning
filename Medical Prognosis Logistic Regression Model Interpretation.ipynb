{
 "cells": [
  {
   "cell_type": "code",
   "execution_count": 12,
   "id": "4bac88c4",
   "metadata": {},
   "outputs": [],
   "source": [
    "import numpy as np\n",
    "import pandas as pd\n",
    "from sklearn.linear_model import LogisticRegression"
   ]
  },
  {
   "cell_type": "code",
   "execution_count": 13,
   "id": "5d901d8f",
   "metadata": {},
   "outputs": [],
   "source": [
    "data = pd.read_csv(r\"C:\\Users\\nico_\\Desktop\\fichiers_csv\\traitement.csv\", sep=\";\")"
   ]
  },
  {
   "cell_type": "markdown",
   "id": "59b8244d",
   "metadata": {},
   "source": [
    "sex (binary): 1 if Male, 0 if Female\n",
    "\n",
    "age (int): age of patient at the beginning of the study\n",
    "\n",
    "obstruct (binary): obstruction of colon by tumor\n",
    "\n",
    "outcome (binary): 1 if patient died within 5 years\n",
    "\n",
    "TRTTMT (binary): if patient was treated"
   ]
  },
  {
   "cell_type": "code",
   "execution_count": 14,
   "id": "c300db13",
   "metadata": {},
   "outputs": [
    {
     "data": {
      "text/html": [
       "<div>\n",
       "<style scoped>\n",
       "    .dataframe tbody tr th:only-of-type {\n",
       "        vertical-align: middle;\n",
       "    }\n",
       "\n",
       "    .dataframe tbody tr th {\n",
       "        vertical-align: top;\n",
       "    }\n",
       "\n",
       "    .dataframe thead th {\n",
       "        text-align: right;\n",
       "    }\n",
       "</style>\n",
       "<table border=\"1\" class=\"dataframe\">\n",
       "  <thead>\n",
       "    <tr style=\"text-align: right;\">\n",
       "      <th></th>\n",
       "      <th>Unnamed: 0</th>\n",
       "      <th>Sex</th>\n",
       "      <th>age</th>\n",
       "      <th>obstruct</th>\n",
       "      <th>outcome</th>\n",
       "      <th>TRTTMT</th>\n",
       "    </tr>\n",
       "  </thead>\n",
       "  <tbody>\n",
       "    <tr>\n",
       "      <th>0</th>\n",
       "      <td>1</td>\n",
       "      <td>0</td>\n",
       "      <td>57</td>\n",
       "      <td>0</td>\n",
       "      <td>1</td>\n",
       "      <td>True</td>\n",
       "    </tr>\n",
       "    <tr>\n",
       "      <th>1</th>\n",
       "      <td>2</td>\n",
       "      <td>1</td>\n",
       "      <td>68</td>\n",
       "      <td>0</td>\n",
       "      <td>0</td>\n",
       "      <td>False</td>\n",
       "    </tr>\n",
       "    <tr>\n",
       "      <th>2</th>\n",
       "      <td>3</td>\n",
       "      <td>0</td>\n",
       "      <td>72</td>\n",
       "      <td>0</td>\n",
       "      <td>0</td>\n",
       "      <td>True</td>\n",
       "    </tr>\n",
       "    <tr>\n",
       "      <th>3</th>\n",
       "      <td>4</td>\n",
       "      <td>0</td>\n",
       "      <td>66</td>\n",
       "      <td>1</td>\n",
       "      <td>1</td>\n",
       "      <td>True</td>\n",
       "    </tr>\n",
       "    <tr>\n",
       "      <th>4</th>\n",
       "      <td>5</td>\n",
       "      <td>1</td>\n",
       "      <td>69</td>\n",
       "      <td>0</td>\n",
       "      <td>1</td>\n",
       "      <td>False</td>\n",
       "    </tr>\n",
       "  </tbody>\n",
       "</table>\n",
       "</div>"
      ],
      "text/plain": [
       "   Unnamed: 0  Sex  age  obstruct  outcome  TRTTMT\n",
       "0           1    0   57         0        1    True\n",
       "1           2    1   68         0        0   False\n",
       "2           3    0   72         0        0    True\n",
       "3           4    0   66         1        1    True\n",
       "4           5    1   69         0        1   False"
      ]
     },
     "execution_count": 14,
     "metadata": {},
     "output_type": "execute_result"
    }
   ],
   "source": [
    "data.head()"
   ]
  },
  {
   "cell_type": "code",
   "execution_count": 15,
   "id": "ca570e4b",
   "metadata": {},
   "outputs": [],
   "source": [
    "data.drop('Unnamed: 0', inplace=True, axis=1)"
   ]
  },
  {
   "cell_type": "code",
   "execution_count": 16,
   "id": "805fafb0",
   "metadata": {},
   "outputs": [
    {
     "data": {
      "text/plain": [
       "Sex         0\n",
       "age         0\n",
       "obstruct    0\n",
       "outcome     0\n",
       "TRTTMT      0\n",
       "dtype: int64"
      ]
     },
     "execution_count": 16,
     "metadata": {},
     "output_type": "execute_result"
    }
   ],
   "source": [
    "data.isna().sum()"
   ]
  },
  {
   "cell_type": "markdown",
   "id": "b1917fa9",
   "metadata": {},
   "source": [
    "# Logistic Regression"
   ]
  },
  {
   "cell_type": "code",
   "execution_count": 17,
   "id": "d589610f",
   "metadata": {},
   "outputs": [],
   "source": [
    "y = data[\"outcome\"]\n",
    "\n",
    "X = data.drop('outcome', axis=1)\n",
    "\n",
    "classifier = LogisticRegression(solver='lbfgs').fit(X, y)"
   ]
  },
  {
   "cell_type": "markdown",
   "id": "5136b2ad",
   "metadata": {},
   "source": [
    "# Odds"
   ]
  },
  {
   "cell_type": "markdown",
   "id": "a8130969",
   "metadata": {},
   "source": [
    "odds = p/(1-p)\n",
    "\n",
    "p : probability of events (such as death)\n",
    "1-p : probability that the event doesn't happen (non death)\n",
    "\n",
    "\n",
    "odds = σ(θTx) / (1−σ(θTx))\n",
    "\n",
    "σ(θTx(i)) = 1 / (1+e(−θTx))\n",
    "\n",
    "odds = e(θTx(i))\n",
    "\n",
    "θT : coefficients\n",
    "x(i) : features"
   ]
  },
  {
   "cell_type": "markdown",
   "id": "6ae5eea3",
   "metadata": {},
   "source": [
    "# coefficient for each feature "
   ]
  },
  {
   "cell_type": "code",
   "execution_count": 18,
   "id": "d4851685",
   "metadata": {},
   "outputs": [
    {
     "data": {
      "text/plain": [
       "array([[-0.21704833,  0.0460642 ,  0.37798496, -0.418984  ]])"
      ]
     },
     "execution_count": 18,
     "metadata": {},
     "output_type": "execute_result"
    }
   ],
   "source": [
    "thetas = classifier.coef_\n",
    "thetas"
   ]
  },
  {
   "cell_type": "code",
   "execution_count": 19,
   "id": "6b964529",
   "metadata": {},
   "outputs": [
    {
     "name": "stdout",
     "output_type": "stream",
     "text": [
      "Feature Sex      : coefficient = -0.217048 \n",
      "Feature age      : coefficient = 0.046064  \n",
      "Feature obstruct : coefficient = 0.377985  \n",
      "Feature TRTTMT   : coefficient = -0.418984 \n"
     ]
    }
   ],
   "source": [
    "for i in range(len(X.columns)):\n",
    "    print(\"Feature {:<9s}: coefficient = {:<10f}\".format(X.columns[i], thetas[0, i]))"
   ]
  },
  {
   "cell_type": "markdown",
   "id": "f92984a7",
   "metadata": {},
   "source": [
    "# Odds Ratio"
   ]
  },
  {
   "cell_type": "markdown",
   "id": "13decb45",
   "metadata": {},
   "source": [
    "OR for binary variables, it's defined as the odds when the variable is 1 divided by the odds when the variable is 0"
   ]
  },
  {
   "cell_type": "markdown",
   "id": "e271c3b0",
   "metadata": {},
   "source": [
    "ORxj = e(θj)"
   ]
  },
  {
   "cell_type": "code",
   "execution_count": 20,
   "id": "ef29118c",
   "metadata": {},
   "outputs": [
    {
     "data": {
      "text/plain": [
       "array([[0.80489107, 1.04714164, 1.45934099, 0.65771472]])"
      ]
     },
     "execution_count": 20,
     "metadata": {},
     "output_type": "execute_result"
    }
   ],
   "source": [
    "odds_ratios = np.exp(thetas)\n",
    "odds_ratios"
   ]
  },
  {
   "cell_type": "code",
   "execution_count": 21,
   "id": "47b99550",
   "metadata": {},
   "outputs": [
    {
     "name": "stdout",
     "output_type": "stream",
     "text": [
      "Feature Sex       : coefficient = -0.217048  // OR = 0.80\n",
      "Feature age       : coefficient = 0.046064   // OR = 1.05\n",
      "Feature obstruct  : coefficient = 0.377985   // OR = 1.46\n",
      "Feature TRTTMT    : coefficient = -0.418984  // OR = 0.66\n"
     ]
    }
   ],
   "source": [
    "for i in range(len(X.columns)):\n",
    "    print(\"Feature {:<10s}: coefficient = {:<10f} // OR = {:.2f}\".format(X.columns[i], thetas[0, i], odds_ratios[0, i]))"
   ]
  },
  {
   "cell_type": "markdown",
   "id": "82d57ae4",
   "metadata": {},
   "source": [
    "Sex : OR = 0.80 < 1 donc être un homme réduit le risque de décès \n",
    "\n",
    "age : OR = 1.05 > 1 donc être jeune réduit le risque de décès\n",
    "\n",
    "obstruct : OR = 1.46 > 1 donc ne pas présenter de tumeur obstructive du côlon réduit le risque de décès\n",
    "\n",
    "TRTTMT : OR = 0.66 donc prendre un traitement réduit le risque de décès"
   ]
  },
  {
   "cell_type": "code",
   "execution_count": null,
   "id": "494b4a07",
   "metadata": {},
   "outputs": [],
   "source": []
  }
 ],
 "metadata": {
  "kernelspec": {
   "display_name": "Python 3 (ipykernel)",
   "language": "python",
   "name": "python3"
  },
  "language_info": {
   "codemirror_mode": {
    "name": "ipython",
    "version": 3
   },
   "file_extension": ".py",
   "mimetype": "text/x-python",
   "name": "python",
   "nbconvert_exporter": "python",
   "pygments_lexer": "ipython3",
   "version": "3.11.5"
  }
 },
 "nbformat": 4,
 "nbformat_minor": 5
}
