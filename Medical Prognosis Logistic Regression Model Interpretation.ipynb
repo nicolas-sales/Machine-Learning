{
 "cells": [
  {
   "cell_type": "code",
   "execution_count": 23,
   "id": "f3b7585f",
   "metadata": {},
   "outputs": [],
   "source": [
    "import numpy as np\n",
    "import pandas as pd\n",
    "from sklearn.linear_model import LogisticRegression\n",
    "from sklearn.model_selection import train_test_split"
   ]
  },
  {
   "cell_type": "code",
   "execution_count": 13,
   "id": "10874251",
   "metadata": {},
   "outputs": [],
   "source": [
    "data = pd.read_csv(r\"C:\\Users\\nico_\\Desktop\\fichiers_csv\\traitement.csv\", sep=\";\")"
   ]
  },
  {
   "cell_type": "markdown",
   "id": "270b2573",
   "metadata": {},
   "source": [
    "sex (binary): 1 if Male, 0 if Female\n",
    "\n",
    "age (int): age of patient at the beginning of the study\n",
    "\n",
    "obstruct (binary): obstruction of colon by tumor\n",
    "\n",
    "outcome (binary): 1 if patient died within 5 years\n",
    "\n",
    "TRTTMT (binary): if patient was treated"
   ]
  },
  {
   "cell_type": "code",
   "execution_count": 14,
   "id": "c2afe0ae",
   "metadata": {},
   "outputs": [
    {
     "data": {
      "text/html": [
       "<div>\n",
       "<style scoped>\n",
       "    .dataframe tbody tr th:only-of-type {\n",
       "        vertical-align: middle;\n",
       "    }\n",
       "\n",
       "    .dataframe tbody tr th {\n",
       "        vertical-align: top;\n",
       "    }\n",
       "\n",
       "    .dataframe thead th {\n",
       "        text-align: right;\n",
       "    }\n",
       "</style>\n",
       "<table border=\"1\" class=\"dataframe\">\n",
       "  <thead>\n",
       "    <tr style=\"text-align: right;\">\n",
       "      <th></th>\n",
       "      <th>Unnamed: 0</th>\n",
       "      <th>Sex</th>\n",
       "      <th>age</th>\n",
       "      <th>obstruct</th>\n",
       "      <th>outcome</th>\n",
       "      <th>TRTTMT</th>\n",
       "    </tr>\n",
       "  </thead>\n",
       "  <tbody>\n",
       "    <tr>\n",
       "      <th>0</th>\n",
       "      <td>1</td>\n",
       "      <td>0</td>\n",
       "      <td>57</td>\n",
       "      <td>0</td>\n",
       "      <td>1</td>\n",
       "      <td>True</td>\n",
       "    </tr>\n",
       "    <tr>\n",
       "      <th>1</th>\n",
       "      <td>2</td>\n",
       "      <td>1</td>\n",
       "      <td>68</td>\n",
       "      <td>0</td>\n",
       "      <td>0</td>\n",
       "      <td>False</td>\n",
       "    </tr>\n",
       "    <tr>\n",
       "      <th>2</th>\n",
       "      <td>3</td>\n",
       "      <td>0</td>\n",
       "      <td>72</td>\n",
       "      <td>0</td>\n",
       "      <td>0</td>\n",
       "      <td>True</td>\n",
       "    </tr>\n",
       "    <tr>\n",
       "      <th>3</th>\n",
       "      <td>4</td>\n",
       "      <td>0</td>\n",
       "      <td>66</td>\n",
       "      <td>1</td>\n",
       "      <td>1</td>\n",
       "      <td>True</td>\n",
       "    </tr>\n",
       "    <tr>\n",
       "      <th>4</th>\n",
       "      <td>5</td>\n",
       "      <td>1</td>\n",
       "      <td>69</td>\n",
       "      <td>0</td>\n",
       "      <td>1</td>\n",
       "      <td>False</td>\n",
       "    </tr>\n",
       "  </tbody>\n",
       "</table>\n",
       "</div>"
      ],
      "text/plain": [
       "   Unnamed: 0  Sex  age  obstruct  outcome  TRTTMT\n",
       "0           1    0   57         0        1    True\n",
       "1           2    1   68         0        0   False\n",
       "2           3    0   72         0        0    True\n",
       "3           4    0   66         1        1    True\n",
       "4           5    1   69         0        1   False"
      ]
     },
     "execution_count": 14,
     "metadata": {},
     "output_type": "execute_result"
    }
   ],
   "source": [
    "data.head()"
   ]
  },
  {
   "cell_type": "code",
   "execution_count": 15,
   "id": "c510abdb",
   "metadata": {},
   "outputs": [],
   "source": [
    "data.drop('Unnamed: 0', inplace=True, axis=1)"
   ]
  },
  {
   "cell_type": "code",
   "execution_count": 16,
   "id": "2ac53d21",
   "metadata": {},
   "outputs": [
    {
     "data": {
      "text/plain": [
       "Sex         0\n",
       "age         0\n",
       "obstruct    0\n",
       "outcome     0\n",
       "TRTTMT      0\n",
       "dtype: int64"
      ]
     },
     "execution_count": 16,
     "metadata": {},
     "output_type": "execute_result"
    }
   ],
   "source": [
    "data.isna().sum()"
   ]
  },
  {
   "cell_type": "markdown",
   "id": "41aa9fda",
   "metadata": {},
   "source": [
    "# Logistic Regression"
   ]
  },
  {
   "cell_type": "code",
   "execution_count": 17,
   "id": "ea8dbfa5",
   "metadata": {},
   "outputs": [],
   "source": [
    "y = data[\"outcome\"]\n",
    "\n",
    "X = data.drop('outcome', axis=1)\n",
    "\n",
    "classifier = LogisticRegression(solver='lbfgs').fit(X, y)"
   ]
  },
  {
   "cell_type": "markdown",
   "id": "8a003a57",
   "metadata": {},
   "source": [
    "# Odds"
   ]
  },
  {
   "cell_type": "markdown",
   "id": "93aac6f6",
   "metadata": {},
   "source": [
    "odds = p/(1-p)\n",
    "\n",
    "p : probability of events (such as death)\n",
    "1-p : probability that the event doesn't happen (non death)\n",
    "\n",
    "\n",
    "odds = σ(θTx) / (1−σ(θTx))\n",
    "\n",
    "σ(θTx(i)) = 1 / (1+e(−θTx))\n",
    "\n",
    "odds = e(θTx(i))\n",
    "\n",
    "θT : coefficients\n",
    "x(i) : features"
   ]
  },
  {
   "cell_type": "markdown",
   "id": "c0645b58",
   "metadata": {},
   "source": [
    "# coefficient for each feature "
   ]
  },
  {
   "cell_type": "code",
   "execution_count": 18,
   "id": "366cb5cc",
   "metadata": {},
   "outputs": [
    {
     "data": {
      "text/plain": [
       "array([[-0.21704833,  0.0460642 ,  0.37798496, -0.418984  ]])"
      ]
     },
     "execution_count": 18,
     "metadata": {},
     "output_type": "execute_result"
    }
   ],
   "source": [
    "thetas = classifier.coef_\n",
    "thetas"
   ]
  },
  {
   "cell_type": "code",
   "execution_count": 19,
   "id": "eea61353",
   "metadata": {},
   "outputs": [
    {
     "name": "stdout",
     "output_type": "stream",
     "text": [
      "Feature Sex      : coefficient = -0.217048 \n",
      "Feature age      : coefficient = 0.046064  \n",
      "Feature obstruct : coefficient = 0.377985  \n",
      "Feature TRTTMT   : coefficient = -0.418984 \n"
     ]
    }
   ],
   "source": [
    "for i in range(len(X.columns)):\n",
    "    print(\"Feature {:<9s}: coefficient = {:<10f}\".format(X.columns[i], thetas[0, i]))"
   ]
  },
  {
   "cell_type": "markdown",
   "id": "d0d40e53",
   "metadata": {},
   "source": [
    "# Odds Ratio"
   ]
  },
  {
   "cell_type": "markdown",
   "id": "e75389b2",
   "metadata": {},
   "source": [
    "OR for binary variables, it's defined as the odds when the variable is 1 divided by the odds when the variable is 0"
   ]
  },
  {
   "cell_type": "markdown",
   "id": "4fda8ecc",
   "metadata": {},
   "source": [
    "ORxj = e(θj)"
   ]
  },
  {
   "cell_type": "code",
   "execution_count": 20,
   "id": "94b730d1",
   "metadata": {},
   "outputs": [
    {
     "data": {
      "text/plain": [
       "array([[0.80489107, 1.04714164, 1.45934099, 0.65771472]])"
      ]
     },
     "execution_count": 20,
     "metadata": {},
     "output_type": "execute_result"
    }
   ],
   "source": [
    "odds_ratios = np.exp(thetas)\n",
    "odds_ratios"
   ]
  },
  {
   "cell_type": "code",
   "execution_count": 21,
   "id": "3b254ac4",
   "metadata": {},
   "outputs": [
    {
     "name": "stdout",
     "output_type": "stream",
     "text": [
      "Feature Sex       : coefficient = -0.217048  // OR = 0.80\n",
      "Feature age       : coefficient = 0.046064   // OR = 1.05\n",
      "Feature obstruct  : coefficient = 0.377985   // OR = 1.46\n",
      "Feature TRTTMT    : coefficient = -0.418984  // OR = 0.66\n"
     ]
    }
   ],
   "source": [
    "for i in range(len(X.columns)):\n",
    "    print(\"Feature {:<10s}: coefficient = {:<10f} // OR = {:.2f}\".format(X.columns[i], thetas[0, i], odds_ratios[0, i]))"
   ]
  },
  {
   "cell_type": "markdown",
   "id": "2f699339",
   "metadata": {},
   "source": [
    "Sex : OR = 0.80 < 1 donc être un homme réduit le risque de décès \n",
    "\n",
    "age : OR = 1.05 > 1 donc être jeune réduit le risque de décès\n",
    "\n",
    "obstruct : OR = 1.46 > 1 donc ne pas présenter de tumeur obstructive du côlon réduit le risque de décès\n",
    "\n",
    "TRTTMT : OR = 0.66 donc prendre un traitement réduit le risque de décès"
   ]
  },
  {
   "cell_type": "markdown",
   "id": "89462946",
   "metadata": {},
   "source": [
    "# Train/Test split"
   ]
  },
  {
   "cell_type": "code",
   "execution_count": 24,
   "id": "c133248c",
   "metadata": {},
   "outputs": [
    {
     "name": "stdout",
     "output_type": "stream",
     "text": [
      "Number of observations for training: 37\n",
      "Number of observations for testing: 13\n"
     ]
    }
   ],
   "source": [
    "X_train, X_test, y_train, y_test = train_test_split(X, y, test_size = 0.25)\n",
    "print(f\"Number of observations for training: {y_train.size}\")\n",
    "print(f\"Number of observations for testing: {y_test.size}\")"
   ]
  },
  {
   "cell_type": "markdown",
   "id": "80b698ab",
   "metadata": {},
   "source": [
    "# Training and prediction"
   ]
  },
  {
   "cell_type": "code",
   "execution_count": 25,
   "id": "8595bc4d",
   "metadata": {},
   "outputs": [
    {
     "data": {
      "text/html": [
       "<style>#sk-container-id-1 {color: black;}#sk-container-id-1 pre{padding: 0;}#sk-container-id-1 div.sk-toggleable {background-color: white;}#sk-container-id-1 label.sk-toggleable__label {cursor: pointer;display: block;width: 100%;margin-bottom: 0;padding: 0.3em;box-sizing: border-box;text-align: center;}#sk-container-id-1 label.sk-toggleable__label-arrow:before {content: \"▸\";float: left;margin-right: 0.25em;color: #696969;}#sk-container-id-1 label.sk-toggleable__label-arrow:hover:before {color: black;}#sk-container-id-1 div.sk-estimator:hover label.sk-toggleable__label-arrow:before {color: black;}#sk-container-id-1 div.sk-toggleable__content {max-height: 0;max-width: 0;overflow: hidden;text-align: left;background-color: #f0f8ff;}#sk-container-id-1 div.sk-toggleable__content pre {margin: 0.2em;color: black;border-radius: 0.25em;background-color: #f0f8ff;}#sk-container-id-1 input.sk-toggleable__control:checked~div.sk-toggleable__content {max-height: 200px;max-width: 100%;overflow: auto;}#sk-container-id-1 input.sk-toggleable__control:checked~label.sk-toggleable__label-arrow:before {content: \"▾\";}#sk-container-id-1 div.sk-estimator input.sk-toggleable__control:checked~label.sk-toggleable__label {background-color: #d4ebff;}#sk-container-id-1 div.sk-label input.sk-toggleable__control:checked~label.sk-toggleable__label {background-color: #d4ebff;}#sk-container-id-1 input.sk-hidden--visually {border: 0;clip: rect(1px 1px 1px 1px);clip: rect(1px, 1px, 1px, 1px);height: 1px;margin: -1px;overflow: hidden;padding: 0;position: absolute;width: 1px;}#sk-container-id-1 div.sk-estimator {font-family: monospace;background-color: #f0f8ff;border: 1px dotted black;border-radius: 0.25em;box-sizing: border-box;margin-bottom: 0.5em;}#sk-container-id-1 div.sk-estimator:hover {background-color: #d4ebff;}#sk-container-id-1 div.sk-parallel-item::after {content: \"\";width: 100%;border-bottom: 1px solid gray;flex-grow: 1;}#sk-container-id-1 div.sk-label:hover label.sk-toggleable__label {background-color: #d4ebff;}#sk-container-id-1 div.sk-serial::before {content: \"\";position: absolute;border-left: 1px solid gray;box-sizing: border-box;top: 0;bottom: 0;left: 50%;z-index: 0;}#sk-container-id-1 div.sk-serial {display: flex;flex-direction: column;align-items: center;background-color: white;padding-right: 0.2em;padding-left: 0.2em;position: relative;}#sk-container-id-1 div.sk-item {position: relative;z-index: 1;}#sk-container-id-1 div.sk-parallel {display: flex;align-items: stretch;justify-content: center;background-color: white;position: relative;}#sk-container-id-1 div.sk-item::before, #sk-container-id-1 div.sk-parallel-item::before {content: \"\";position: absolute;border-left: 1px solid gray;box-sizing: border-box;top: 0;bottom: 0;left: 50%;z-index: -1;}#sk-container-id-1 div.sk-parallel-item {display: flex;flex-direction: column;z-index: 1;position: relative;background-color: white;}#sk-container-id-1 div.sk-parallel-item:first-child::after {align-self: flex-end;width: 50%;}#sk-container-id-1 div.sk-parallel-item:last-child::after {align-self: flex-start;width: 50%;}#sk-container-id-1 div.sk-parallel-item:only-child::after {width: 0;}#sk-container-id-1 div.sk-dashed-wrapped {border: 1px dashed gray;margin: 0 0.4em 0.5em 0.4em;box-sizing: border-box;padding-bottom: 0.4em;background-color: white;}#sk-container-id-1 div.sk-label label {font-family: monospace;font-weight: bold;display: inline-block;line-height: 1.2em;}#sk-container-id-1 div.sk-label-container {text-align: center;}#sk-container-id-1 div.sk-container {/* jupyter's `normalize.less` sets `[hidden] { display: none; }` but bootstrap.min.css set `[hidden] { display: none !important; }` so we also need the `!important` here to be able to override the default hidden behavior on the sphinx rendered scikit-learn.org. See: https://github.com/scikit-learn/scikit-learn/issues/21755 */display: inline-block !important;position: relative;}#sk-container-id-1 div.sk-text-repr-fallback {display: none;}</style><div id=\"sk-container-id-1\" class=\"sk-top-container\"><div class=\"sk-text-repr-fallback\"><pre>LogisticRegression()</pre><b>In a Jupyter environment, please rerun this cell to show the HTML representation or trust the notebook. <br />On GitHub, the HTML representation is unable to render, please try loading this page with nbviewer.org.</b></div><div class=\"sk-container\" hidden><div class=\"sk-item\"><div class=\"sk-estimator sk-toggleable\"><input class=\"sk-toggleable__control sk-hidden--visually\" id=\"sk-estimator-id-1\" type=\"checkbox\" checked><label for=\"sk-estimator-id-1\" class=\"sk-toggleable__label sk-toggleable__label-arrow\">LogisticRegression</label><div class=\"sk-toggleable__content\"><pre>LogisticRegression()</pre></div></div></div></div></div>"
      ],
      "text/plain": [
       "LogisticRegression()"
      ]
     },
     "execution_count": 25,
     "metadata": {},
     "output_type": "execute_result"
    }
   ],
   "source": [
    "lr = LogisticRegression(solver='lbfgs')\n",
    "lr.fit(X_train, y_train)"
   ]
  },
  {
   "cell_type": "code",
   "execution_count": 28,
   "id": "9fcdda63",
   "metadata": {},
   "outputs": [],
   "source": [
    "predictions = lr.predict(X_test)\n",
    "prediction_probs = lr.predict_proba(X_test)"
   ]
  },
  {
   "cell_type": "code",
   "execution_count": 29,
   "id": "bfd12c89",
   "metadata": {},
   "outputs": [
    {
     "data": {
      "text/plain": [
       "array([0, 1], dtype=int64)"
      ]
     },
     "execution_count": 29,
     "metadata": {},
     "output_type": "execute_result"
    }
   ],
   "source": [
    "lr.classes_"
   ]
  },
  {
   "cell_type": "markdown",
   "id": "37e418fa",
   "metadata": {},
   "source": [
    "# For the first five elements of dataset"
   ]
  },
  {
   "cell_type": "code",
   "execution_count": 30,
   "id": "60e9f79c",
   "metadata": {},
   "outputs": [
    {
     "name": "stdout",
     "output_type": "stream",
     "text": [
      "Element number: 0\n",
      "Predicted class: 0\n",
      "Probability of predicting class 0: 0.904194043220079\n",
      "Probability of predicting class 1: 0.09580595677992103\n",
      "\n",
      "Element number: 1\n",
      "Predicted class: 1\n",
      "Probability of predicting class 0: 0.469949454202261\n",
      "Probability of predicting class 1: 0.530050545797739\n",
      "\n",
      "Element number: 2\n",
      "Predicted class: 1\n",
      "Probability of predicting class 0: 0.4169940839679571\n",
      "Probability of predicting class 1: 0.5830059160320429\n",
      "\n",
      "Element number: 3\n",
      "Predicted class: 0\n",
      "Probability of predicting class 0: 0.5591261226476416\n",
      "Probability of predicting class 1: 0.44087387735235833\n",
      "\n",
      "Element number: 4\n",
      "Predicted class: 1\n",
      "Probability of predicting class 0: 0.4344955139352179\n",
      "Probability of predicting class 1: 0.5655044860647821\n",
      "\n"
     ]
    }
   ],
   "source": [
    "for i in range(5):\n",
    "    print(f\"Element number: {i}\")\n",
    "    print(f\"Predicted class: {predictions[i]}\")\n",
    "    print(f\"Probability of predicting class 0: {prediction_probs[i][0]}\")\n",
    "    print(f\"Probability of predicting class 1: {prediction_probs[i][1]}\\n\")"
   ]
  },
  {
   "cell_type": "markdown",
   "id": "a6e5c3f0",
   "metadata": {},
   "source": [
    "# Probability for label 1"
   ]
  },
  {
   "cell_type": "code",
   "execution_count": 31,
   "id": "25aacfa5",
   "metadata": {},
   "outputs": [
    {
     "data": {
      "text/plain": [
       "array([0.09580596, 0.53005055, 0.58300592, 0.44087388, 0.56550449,\n",
       "       0.22445097, 0.30728025, 0.27817283, 0.50271464, 0.47640982,\n",
       "       0.07874681, 0.1710679 , 0.3502622 ])"
      ]
     },
     "execution_count": 31,
     "metadata": {},
     "output_type": "execute_result"
    }
   ],
   "source": [
    "prediction_probs[:, 1]"
   ]
  },
  {
   "cell_type": "markdown",
   "id": "b765677e",
   "metadata": {},
   "source": [
    "# Mean Accuracy"
   ]
  },
  {
   "cell_type": "code",
   "execution_count": 32,
   "id": "14fe6d8c",
   "metadata": {},
   "outputs": [
    {
     "data": {
      "text/plain": [
       "0.6923076923076923"
      ]
     },
     "execution_count": 32,
     "metadata": {},
     "output_type": "execute_result"
    }
   ],
   "source": [
    "lr.score(X_test, y_test)"
   ]
  },
  {
   "cell_type": "code",
   "execution_count": null,
   "id": "292dfbf4",
   "metadata": {},
   "outputs": [],
   "source": []
  }
 ],
 "metadata": {
  "kernelspec": {
   "display_name": "Python 3 (ipykernel)",
   "language": "python",
   "name": "python3"
  },
  "language_info": {
   "codemirror_mode": {
    "name": "ipython",
    "version": 3
   },
   "file_extension": ".py",
   "mimetype": "text/x-python",
   "name": "python",
   "nbconvert_exporter": "python",
   "pygments_lexer": "ipython3",
   "version": "3.11.5"
  }
 },
 "nbformat": 4,
 "nbformat_minor": 5
}
