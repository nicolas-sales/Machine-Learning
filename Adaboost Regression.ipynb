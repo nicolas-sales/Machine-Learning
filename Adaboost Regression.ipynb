{
 "cells": [
  {
   "cell_type": "code",
   "execution_count": 2,
   "id": "7bb169b0-edb9-43f0-89b2-b79a679af09b",
   "metadata": {},
   "outputs": [],
   "source": [
    "import pandas as pd\n",
    "import numpy as np\n",
    "import matplotlib.pyplot as plt\n",
    "%matplotlib inline\n",
    "import seaborn as sns\n",
    "import plotly.express as px\n",
    "from sklearn.model_selection import train_test_split\n",
    "from sklearn.preprocessing import LabelEncoder,  OneHotEncoder, StandardScaler\n",
    "from sklearn.compose import ColumnTransformer\n",
    "from sklearn.model_selection import train_test_split\n",
    "\n",
    "from sklearn.ensemble import RandomForestRegressor\n",
    "from sklearn.tree import DecisionTreeRegressor\n",
    "from sklearn.linear_model import LinearRegression, Ridge, Lasso\n",
    "from sklearn.neighbors import KNeighborsRegressor\n",
    "from sklearn.ensemble import AdaBoostRegressor\n",
    "from sklearn.metrics import r2_score, mean_absolute_error, mean_squared_error\n",
    "from sklearn.model_selection import RandomizedSearchCV"
   ]
  },
  {
   "cell_type": "code",
   "execution_count": 4,
   "id": "73672eab-8676-416c-a33b-d51ea214e5bf",
   "metadata": {},
   "outputs": [],
   "source": [
    "df = pd.read_csv(r\"C:\\Users\\nico_\\Desktop\\Data science bootcamp\\Random Forest\\cardekho_imputated.csv\", index_col=[0])"
   ]
  },
  {
   "cell_type": "code",
   "execution_count": 6,
   "id": "3db16092-daa6-4374-8108-0d09767febee",
   "metadata": {},
   "outputs": [
    {
     "data": {
      "text/html": [
       "<div>\n",
       "<style scoped>\n",
       "    .dataframe tbody tr th:only-of-type {\n",
       "        vertical-align: middle;\n",
       "    }\n",
       "\n",
       "    .dataframe tbody tr th {\n",
       "        vertical-align: top;\n",
       "    }\n",
       "\n",
       "    .dataframe thead th {\n",
       "        text-align: right;\n",
       "    }\n",
       "</style>\n",
       "<table border=\"1\" class=\"dataframe\">\n",
       "  <thead>\n",
       "    <tr style=\"text-align: right;\">\n",
       "      <th></th>\n",
       "      <th>car_name</th>\n",
       "      <th>brand</th>\n",
       "      <th>model</th>\n",
       "      <th>vehicle_age</th>\n",
       "      <th>km_driven</th>\n",
       "      <th>seller_type</th>\n",
       "      <th>fuel_type</th>\n",
       "      <th>transmission_type</th>\n",
       "      <th>mileage</th>\n",
       "      <th>engine</th>\n",
       "      <th>max_power</th>\n",
       "      <th>seats</th>\n",
       "      <th>selling_price</th>\n",
       "    </tr>\n",
       "  </thead>\n",
       "  <tbody>\n",
       "    <tr>\n",
       "      <th>0</th>\n",
       "      <td>Maruti Alto</td>\n",
       "      <td>Maruti</td>\n",
       "      <td>Alto</td>\n",
       "      <td>9</td>\n",
       "      <td>120000</td>\n",
       "      <td>Individual</td>\n",
       "      <td>Petrol</td>\n",
       "      <td>Manual</td>\n",
       "      <td>19.70</td>\n",
       "      <td>796</td>\n",
       "      <td>46.30</td>\n",
       "      <td>5</td>\n",
       "      <td>120000</td>\n",
       "    </tr>\n",
       "    <tr>\n",
       "      <th>1</th>\n",
       "      <td>Hyundai Grand</td>\n",
       "      <td>Hyundai</td>\n",
       "      <td>Grand</td>\n",
       "      <td>5</td>\n",
       "      <td>20000</td>\n",
       "      <td>Individual</td>\n",
       "      <td>Petrol</td>\n",
       "      <td>Manual</td>\n",
       "      <td>18.90</td>\n",
       "      <td>1197</td>\n",
       "      <td>82.00</td>\n",
       "      <td>5</td>\n",
       "      <td>550000</td>\n",
       "    </tr>\n",
       "    <tr>\n",
       "      <th>2</th>\n",
       "      <td>Hyundai i20</td>\n",
       "      <td>Hyundai</td>\n",
       "      <td>i20</td>\n",
       "      <td>11</td>\n",
       "      <td>60000</td>\n",
       "      <td>Individual</td>\n",
       "      <td>Petrol</td>\n",
       "      <td>Manual</td>\n",
       "      <td>17.00</td>\n",
       "      <td>1197</td>\n",
       "      <td>80.00</td>\n",
       "      <td>5</td>\n",
       "      <td>215000</td>\n",
       "    </tr>\n",
       "    <tr>\n",
       "      <th>3</th>\n",
       "      <td>Maruti Alto</td>\n",
       "      <td>Maruti</td>\n",
       "      <td>Alto</td>\n",
       "      <td>9</td>\n",
       "      <td>37000</td>\n",
       "      <td>Individual</td>\n",
       "      <td>Petrol</td>\n",
       "      <td>Manual</td>\n",
       "      <td>20.92</td>\n",
       "      <td>998</td>\n",
       "      <td>67.10</td>\n",
       "      <td>5</td>\n",
       "      <td>226000</td>\n",
       "    </tr>\n",
       "    <tr>\n",
       "      <th>4</th>\n",
       "      <td>Ford Ecosport</td>\n",
       "      <td>Ford</td>\n",
       "      <td>Ecosport</td>\n",
       "      <td>6</td>\n",
       "      <td>30000</td>\n",
       "      <td>Dealer</td>\n",
       "      <td>Diesel</td>\n",
       "      <td>Manual</td>\n",
       "      <td>22.77</td>\n",
       "      <td>1498</td>\n",
       "      <td>98.59</td>\n",
       "      <td>5</td>\n",
       "      <td>570000</td>\n",
       "    </tr>\n",
       "  </tbody>\n",
       "</table>\n",
       "</div>"
      ],
      "text/plain": [
       "        car_name    brand     model  vehicle_age  km_driven seller_type  \\\n",
       "0    Maruti Alto   Maruti      Alto            9     120000  Individual   \n",
       "1  Hyundai Grand  Hyundai     Grand            5      20000  Individual   \n",
       "2    Hyundai i20  Hyundai       i20           11      60000  Individual   \n",
       "3    Maruti Alto   Maruti      Alto            9      37000  Individual   \n",
       "4  Ford Ecosport     Ford  Ecosport            6      30000      Dealer   \n",
       "\n",
       "  fuel_type transmission_type  mileage  engine  max_power  seats  \\\n",
       "0    Petrol            Manual    19.70     796      46.30      5   \n",
       "1    Petrol            Manual    18.90    1197      82.00      5   \n",
       "2    Petrol            Manual    17.00    1197      80.00      5   \n",
       "3    Petrol            Manual    20.92     998      67.10      5   \n",
       "4    Diesel            Manual    22.77    1498      98.59      5   \n",
       "\n",
       "   selling_price  \n",
       "0         120000  \n",
       "1         550000  \n",
       "2         215000  \n",
       "3         226000  \n",
       "4         570000  "
      ]
     },
     "execution_count": 6,
     "metadata": {},
     "output_type": "execute_result"
    }
   ],
   "source": [
    "df.head()"
   ]
  },
  {
   "cell_type": "code",
   "execution_count": 8,
   "id": "9dfab35b-66c7-4840-8b40-8c8c63e61c7d",
   "metadata": {},
   "outputs": [
    {
     "data": {
      "text/plain": [
       "(15411, 13)"
      ]
     },
     "execution_count": 8,
     "metadata": {},
     "output_type": "execute_result"
    }
   ],
   "source": [
    "df.shape"
   ]
  },
  {
   "cell_type": "code",
   "execution_count": 10,
   "id": "8d7cf66b-42d1-418e-b053-d798476d608d",
   "metadata": {},
   "outputs": [
    {
     "data": {
      "text/plain": [
       "car_name              object\n",
       "brand                 object\n",
       "model                 object\n",
       "vehicle_age            int64\n",
       "km_driven              int64\n",
       "seller_type           object\n",
       "fuel_type             object\n",
       "transmission_type     object\n",
       "mileage              float64\n",
       "engine                 int64\n",
       "max_power            float64\n",
       "seats                  int64\n",
       "selling_price          int64\n",
       "dtype: object"
      ]
     },
     "execution_count": 10,
     "metadata": {},
     "output_type": "execute_result"
    }
   ],
   "source": [
    "df.dtypes"
   ]
  },
  {
   "cell_type": "markdown",
   "id": "0e69fdca-4041-423d-9dc6-edf7bbe876c9",
   "metadata": {},
   "source": [
    "# Data Cleaning"
   ]
  },
  {
   "cell_type": "code",
   "execution_count": 13,
   "id": "630b408e-0287-4eb8-99ff-4a8960fa5cfd",
   "metadata": {},
   "outputs": [
    {
     "data": {
      "text/plain": [
       "car_name             0\n",
       "brand                0\n",
       "model                0\n",
       "vehicle_age          0\n",
       "km_driven            0\n",
       "seller_type          0\n",
       "fuel_type            0\n",
       "transmission_type    0\n",
       "mileage              0\n",
       "engine               0\n",
       "max_power            0\n",
       "seats                0\n",
       "selling_price        0\n",
       "dtype: int64"
      ]
     },
     "execution_count": 13,
     "metadata": {},
     "output_type": "execute_result"
    }
   ],
   "source": [
    "df.isna().sum()"
   ]
  },
  {
   "cell_type": "code",
   "execution_count": 15,
   "id": "e06ead61-dd32-417d-82c8-ad9e98f23a12",
   "metadata": {},
   "outputs": [
    {
     "data": {
      "text/plain": [
       "167"
      ]
     },
     "execution_count": 15,
     "metadata": {},
     "output_type": "execute_result"
    }
   ],
   "source": [
    "df.duplicated().sum()"
   ]
  },
  {
   "cell_type": "code",
   "execution_count": 17,
   "id": "b5378526-2991-4c3d-81b6-9a90bdd3f2ac",
   "metadata": {},
   "outputs": [],
   "source": [
    "df.drop_duplicates(inplace=True)"
   ]
  },
  {
   "cell_type": "code",
   "execution_count": 19,
   "id": "9274767c-eb3d-48ec-90fa-6d91aa588e83",
   "metadata": {},
   "outputs": [
    {
     "data": {
      "text/plain": [
       "0"
      ]
     },
     "execution_count": 19,
     "metadata": {},
     "output_type": "execute_result"
    }
   ],
   "source": [
    "df.duplicated().sum()"
   ]
  },
  {
   "cell_type": "code",
   "execution_count": 21,
   "id": "65a728aa-d20f-4787-b4f8-95b035055362",
   "metadata": {},
   "outputs": [
    {
     "data": {
      "text/plain": [
       "Index(['car_name', 'brand', 'model', 'vehicle_age', 'km_driven', 'seller_type',\n",
       "       'fuel_type', 'transmission_type', 'mileage', 'engine', 'max_power',\n",
       "       'seats', 'selling_price'],\n",
       "      dtype='object')"
      ]
     },
     "execution_count": 21,
     "metadata": {},
     "output_type": "execute_result"
    }
   ],
   "source": [
    "df.columns"
   ]
  },
  {
   "cell_type": "code",
   "execution_count": 23,
   "id": "dcdcb18f-59bc-4991-a408-624286cc21cb",
   "metadata": {},
   "outputs": [],
   "source": [
    "# Remove unnecessary columns\n",
    "df.drop(\"car_name\", axis=1, inplace=True)\n",
    "df.drop(\"brand\", axis=1, inplace=True)"
   ]
  },
  {
   "cell_type": "code",
   "execution_count": 25,
   "id": "f35560a9-2e8d-4ed3-aa08-7c7e6122a8a9",
   "metadata": {},
   "outputs": [
    {
     "data": {
      "text/plain": [
       "array(['Alto', 'Grand', 'i20', 'Ecosport', 'Wagon R', 'i10', 'Venue',\n",
       "       'Swift', 'Verna', 'Duster', 'Cooper', 'Ciaz', 'C-Class', 'Innova',\n",
       "       'Baleno', 'Swift Dzire', 'Vento', 'Creta', 'City', 'Bolero',\n",
       "       'Fortuner', 'KWID', 'Amaze', 'Santro', 'XUV500', 'KUV100', 'Ignis',\n",
       "       'RediGO', 'Scorpio', 'Marazzo', 'Aspire', 'Figo', 'Vitara',\n",
       "       'Tiago', 'Polo', 'Seltos', 'Celerio', 'GO', '5', 'CR-V',\n",
       "       'Endeavour', 'KUV', 'Jazz', '3', 'A4', 'Tigor', 'Ertiga', 'Safari',\n",
       "       'Thar', 'Hexa', 'Rover', 'Eeco', 'A6', 'E-Class', 'Q7', 'Z4', '6',\n",
       "       'XF', 'X5', 'Hector', 'Civic', 'D-Max', 'Cayenne', 'X1', 'Rapid',\n",
       "       'Freestyle', 'Superb', 'Nexon', 'XUV300', 'Dzire VXI', 'S90',\n",
       "       'WR-V', 'XL6', 'Triber', 'ES', 'Wrangler', 'Camry', 'Elantra',\n",
       "       'Yaris', 'GL-Class', '7', 'S-Presso', 'Dzire LXI', 'Aura', 'XC',\n",
       "       'Ghibli', 'Continental', 'CR', 'Kicks', 'S-Class', 'Tucson',\n",
       "       'Harrier', 'X3', 'Octavia', 'Compass', 'CLS', 'redi-GO', 'Glanza',\n",
       "       'Macan', 'X4', 'Dzire ZXI', 'XC90', 'F-PACE', 'A8', 'MUX',\n",
       "       'GTC4Lusso', 'GLS', 'X-Trail', 'XE', 'XC60', 'Panamera', 'Alturas',\n",
       "       'Altroz', 'NX', 'Carnival', 'C', 'RX', 'Ghost', 'Quattroporte',\n",
       "       'Gurkha'], dtype=object)"
      ]
     },
     "execution_count": 25,
     "metadata": {},
     "output_type": "execute_result"
    }
   ],
   "source": [
    "df[\"model\"].unique()"
   ]
  },
  {
   "cell_type": "code",
   "execution_count": 27,
   "id": "9d7189e9-4bac-48b1-aec0-bd4e3e1b3134",
   "metadata": {},
   "outputs": [],
   "source": [
    "# Independent and dependent features\n",
    "X=df.drop(\"selling_price\", axis=1)\n",
    "y=df[\"selling_price\"]"
   ]
  },
  {
   "cell_type": "markdown",
   "id": "780b36f3-c056-44ff-96e3-71968b57d592",
   "metadata": {},
   "source": [
    "# Features encoding ans scaling"
   ]
  },
  {
   "cell_type": "code",
   "execution_count": 30,
   "id": "b8d4786e-c913-4fb4-8597-dc360d1f3673",
   "metadata": {},
   "outputs": [],
   "source": [
    "le=LabelEncoder()\n",
    "X['model']=le.fit_transform(X['model'])"
   ]
  },
  {
   "cell_type": "code",
   "execution_count": 32,
   "id": "fde7600c-d6dc-4aeb-aeed-ac53660f7213",
   "metadata": {},
   "outputs": [
    {
     "data": {
      "text/html": [
       "<div>\n",
       "<style scoped>\n",
       "    .dataframe tbody tr th:only-of-type {\n",
       "        vertical-align: middle;\n",
       "    }\n",
       "\n",
       "    .dataframe tbody tr th {\n",
       "        vertical-align: top;\n",
       "    }\n",
       "\n",
       "    .dataframe thead th {\n",
       "        text-align: right;\n",
       "    }\n",
       "</style>\n",
       "<table border=\"1\" class=\"dataframe\">\n",
       "  <thead>\n",
       "    <tr style=\"text-align: right;\">\n",
       "      <th></th>\n",
       "      <th>model</th>\n",
       "      <th>vehicle_age</th>\n",
       "      <th>km_driven</th>\n",
       "      <th>seller_type</th>\n",
       "      <th>fuel_type</th>\n",
       "      <th>transmission_type</th>\n",
       "      <th>mileage</th>\n",
       "      <th>engine</th>\n",
       "      <th>max_power</th>\n",
       "      <th>seats</th>\n",
       "    </tr>\n",
       "  </thead>\n",
       "  <tbody>\n",
       "    <tr>\n",
       "      <th>0</th>\n",
       "      <td>7</td>\n",
       "      <td>9</td>\n",
       "      <td>120000</td>\n",
       "      <td>Individual</td>\n",
       "      <td>Petrol</td>\n",
       "      <td>Manual</td>\n",
       "      <td>19.70</td>\n",
       "      <td>796</td>\n",
       "      <td>46.30</td>\n",
       "      <td>5</td>\n",
       "    </tr>\n",
       "    <tr>\n",
       "      <th>1</th>\n",
       "      <td>54</td>\n",
       "      <td>5</td>\n",
       "      <td>20000</td>\n",
       "      <td>Individual</td>\n",
       "      <td>Petrol</td>\n",
       "      <td>Manual</td>\n",
       "      <td>18.90</td>\n",
       "      <td>1197</td>\n",
       "      <td>82.00</td>\n",
       "      <td>5</td>\n",
       "    </tr>\n",
       "    <tr>\n",
       "      <th>2</th>\n",
       "      <td>118</td>\n",
       "      <td>11</td>\n",
       "      <td>60000</td>\n",
       "      <td>Individual</td>\n",
       "      <td>Petrol</td>\n",
       "      <td>Manual</td>\n",
       "      <td>17.00</td>\n",
       "      <td>1197</td>\n",
       "      <td>80.00</td>\n",
       "      <td>5</td>\n",
       "    </tr>\n",
       "    <tr>\n",
       "      <th>3</th>\n",
       "      <td>7</td>\n",
       "      <td>9</td>\n",
       "      <td>37000</td>\n",
       "      <td>Individual</td>\n",
       "      <td>Petrol</td>\n",
       "      <td>Manual</td>\n",
       "      <td>20.92</td>\n",
       "      <td>998</td>\n",
       "      <td>67.10</td>\n",
       "      <td>5</td>\n",
       "    </tr>\n",
       "    <tr>\n",
       "      <th>4</th>\n",
       "      <td>38</td>\n",
       "      <td>6</td>\n",
       "      <td>30000</td>\n",
       "      <td>Dealer</td>\n",
       "      <td>Diesel</td>\n",
       "      <td>Manual</td>\n",
       "      <td>22.77</td>\n",
       "      <td>1498</td>\n",
       "      <td>98.59</td>\n",
       "      <td>5</td>\n",
       "    </tr>\n",
       "  </tbody>\n",
       "</table>\n",
       "</div>"
      ],
      "text/plain": [
       "   model  vehicle_age  km_driven seller_type fuel_type transmission_type  \\\n",
       "0      7            9     120000  Individual    Petrol            Manual   \n",
       "1     54            5      20000  Individual    Petrol            Manual   \n",
       "2    118           11      60000  Individual    Petrol            Manual   \n",
       "3      7            9      37000  Individual    Petrol            Manual   \n",
       "4     38            6      30000      Dealer    Diesel            Manual   \n",
       "\n",
       "   mileage  engine  max_power  seats  \n",
       "0    19.70     796      46.30      5  \n",
       "1    18.90    1197      82.00      5  \n",
       "2    17.00    1197      80.00      5  \n",
       "3    20.92     998      67.10      5  \n",
       "4    22.77    1498      98.59      5  "
      ]
     },
     "execution_count": 32,
     "metadata": {},
     "output_type": "execute_result"
    }
   ],
   "source": [
    "X.head()"
   ]
  },
  {
   "cell_type": "code",
   "execution_count": 34,
   "id": "ac6f0bb9-a17d-490a-82d4-0de07e56a38e",
   "metadata": {},
   "outputs": [
    {
     "data": {
      "text/plain": [
       "Index(['model', 'vehicle_age', 'km_driven', 'seller_type', 'fuel_type',\n",
       "       'transmission_type', 'mileage', 'engine', 'max_power', 'seats'],\n",
       "      dtype='object')"
      ]
     },
     "execution_count": 34,
     "metadata": {},
     "output_type": "execute_result"
    }
   ],
   "source": [
    "X.columns"
   ]
  },
  {
   "cell_type": "code",
   "execution_count": 36,
   "id": "4b4ba835-6fd9-48e4-bf55-81e18c6bfe90",
   "metadata": {},
   "outputs": [],
   "source": [
    "# Column Transformer\n",
    "num_features = X.select_dtypes(exclude='object').columns\n",
    "onehot_columns = ['seller_type', 'fuel_type','transmission_type']\n",
    "label_encoder_columns = ['model']\n",
    "\n",
    "numeric_transformer = StandardScaler()\n",
    "oh_transformer = OneHotEncoder(drop='first')\n",
    "\n",
    "preprocessor = ColumnTransformer(\n",
    "    [\n",
    "        (\"OneHotEncoder\", oh_transformer, onehot_columns),\n",
    "        (\"StandardScaler\", numeric_transformer, num_features)\n",
    "    ], remainder='passthrough'   # Garde les colonnes non spécifiées sans les transformer et les ajoute à la sortie\n",
    ")"
   ]
  },
  {
   "cell_type": "code",
   "execution_count": 38,
   "id": "44fef958-e806-49d1-ae62-bf12eebe5fed",
   "metadata": {},
   "outputs": [],
   "source": [
    "X=preprocessor.fit_transform(X)"
   ]
  },
  {
   "cell_type": "code",
   "execution_count": 40,
   "id": "9cd541dd-0b42-4062-8b8e-f1a664b53c12",
   "metadata": {},
   "outputs": [
    {
     "data": {
      "text/plain": [
       "array([[ 1.        ,  0.        ,  0.        , ..., -1.32622688,\n",
       "        -1.26549143, -0.40329882],\n",
       "       [ 1.        ,  0.        ,  0.        , ..., -0.5556692 ,\n",
       "        -0.43360049, -0.40329882],\n",
       "       [ 1.        ,  0.        ,  0.        , ..., -0.5556692 ,\n",
       "        -0.48020502, -0.40329882],\n",
       "       ...,\n",
       "       [ 0.        ,  0.        ,  1.        , ...,  0.02272945,\n",
       "         0.06786431, -0.40329882],\n",
       "       [ 0.        ,  0.        ,  1.        , ...,  1.33133238,\n",
       "         0.91793102,  2.06970488],\n",
       "       [ 0.        ,  0.        ,  0.        , ...,  0.02080786,\n",
       "         0.39596023, -0.40329882]])"
      ]
     },
     "execution_count": 40,
     "metadata": {},
     "output_type": "execute_result"
    }
   ],
   "source": [
    "X"
   ]
  },
  {
   "cell_type": "code",
   "execution_count": 42,
   "id": "8953bd48-51be-4865-a5ed-09e620482594",
   "metadata": {},
   "outputs": [
    {
     "data": {
      "text/html": [
       "<div>\n",
       "<style scoped>\n",
       "    .dataframe tbody tr th:only-of-type {\n",
       "        vertical-align: middle;\n",
       "    }\n",
       "\n",
       "    .dataframe tbody tr th {\n",
       "        vertical-align: top;\n",
       "    }\n",
       "\n",
       "    .dataframe thead th {\n",
       "        text-align: right;\n",
       "    }\n",
       "</style>\n",
       "<table border=\"1\" class=\"dataframe\">\n",
       "  <thead>\n",
       "    <tr style=\"text-align: right;\">\n",
       "      <th></th>\n",
       "      <th>0</th>\n",
       "      <th>1</th>\n",
       "      <th>2</th>\n",
       "      <th>3</th>\n",
       "      <th>4</th>\n",
       "      <th>5</th>\n",
       "      <th>6</th>\n",
       "      <th>7</th>\n",
       "      <th>8</th>\n",
       "      <th>9</th>\n",
       "      <th>10</th>\n",
       "      <th>11</th>\n",
       "      <th>12</th>\n",
       "      <th>13</th>\n",
       "    </tr>\n",
       "  </thead>\n",
       "  <tbody>\n",
       "    <tr>\n",
       "      <th>0</th>\n",
       "      <td>1.0</td>\n",
       "      <td>0.0</td>\n",
       "      <td>0.0</td>\n",
       "      <td>0.0</td>\n",
       "      <td>0.0</td>\n",
       "      <td>1.0</td>\n",
       "      <td>1.0</td>\n",
       "      <td>-1.519581</td>\n",
       "      <td>0.981015</td>\n",
       "      <td>1.243329</td>\n",
       "      <td>0.000640</td>\n",
       "      <td>-1.326227</td>\n",
       "      <td>-1.265491</td>\n",
       "      <td>-0.403299</td>\n",
       "    </tr>\n",
       "    <tr>\n",
       "      <th>1</th>\n",
       "      <td>1.0</td>\n",
       "      <td>0.0</td>\n",
       "      <td>0.0</td>\n",
       "      <td>0.0</td>\n",
       "      <td>0.0</td>\n",
       "      <td>1.0</td>\n",
       "      <td>1.0</td>\n",
       "      <td>-0.225821</td>\n",
       "      <td>-0.345188</td>\n",
       "      <td>-0.688493</td>\n",
       "      <td>-0.191245</td>\n",
       "      <td>-0.555669</td>\n",
       "      <td>-0.433600</td>\n",
       "      <td>-0.403299</td>\n",
       "    </tr>\n",
       "    <tr>\n",
       "      <th>2</th>\n",
       "      <td>1.0</td>\n",
       "      <td>0.0</td>\n",
       "      <td>0.0</td>\n",
       "      <td>0.0</td>\n",
       "      <td>0.0</td>\n",
       "      <td>1.0</td>\n",
       "      <td>1.0</td>\n",
       "      <td>1.535894</td>\n",
       "      <td>1.644117</td>\n",
       "      <td>0.084236</td>\n",
       "      <td>-0.646971</td>\n",
       "      <td>-0.555669</td>\n",
       "      <td>-0.480205</td>\n",
       "      <td>-0.403299</td>\n",
       "    </tr>\n",
       "    <tr>\n",
       "      <th>3</th>\n",
       "      <td>1.0</td>\n",
       "      <td>0.0</td>\n",
       "      <td>0.0</td>\n",
       "      <td>0.0</td>\n",
       "      <td>0.0</td>\n",
       "      <td>1.0</td>\n",
       "      <td>1.0</td>\n",
       "      <td>-1.519581</td>\n",
       "      <td>0.981015</td>\n",
       "      <td>-0.360084</td>\n",
       "      <td>0.293264</td>\n",
       "      <td>-0.938066</td>\n",
       "      <td>-0.780804</td>\n",
       "      <td>-0.403299</td>\n",
       "    </tr>\n",
       "    <tr>\n",
       "      <th>4</th>\n",
       "      <td>0.0</td>\n",
       "      <td>0.0</td>\n",
       "      <td>1.0</td>\n",
       "      <td>0.0</td>\n",
       "      <td>0.0</td>\n",
       "      <td>0.0</td>\n",
       "      <td>1.0</td>\n",
       "      <td>-0.666250</td>\n",
       "      <td>-0.013637</td>\n",
       "      <td>-0.495311</td>\n",
       "      <td>0.736997</td>\n",
       "      <td>0.022729</td>\n",
       "      <td>-0.047016</td>\n",
       "      <td>-0.403299</td>\n",
       "    </tr>\n",
       "    <tr>\n",
       "      <th>...</th>\n",
       "      <td>...</td>\n",
       "      <td>...</td>\n",
       "      <td>...</td>\n",
       "      <td>...</td>\n",
       "      <td>...</td>\n",
       "      <td>...</td>\n",
       "      <td>...</td>\n",
       "      <td>...</td>\n",
       "      <td>...</td>\n",
       "      <td>...</td>\n",
       "      <td>...</td>\n",
       "      <td>...</td>\n",
       "      <td>...</td>\n",
       "      <td>...</td>\n",
       "    </tr>\n",
       "    <tr>\n",
       "      <th>15239</th>\n",
       "      <td>0.0</td>\n",
       "      <td>0.0</td>\n",
       "      <td>0.0</td>\n",
       "      <td>0.0</td>\n",
       "      <td>0.0</td>\n",
       "      <td>1.0</td>\n",
       "      <td>1.0</td>\n",
       "      <td>1.508367</td>\n",
       "      <td>0.981015</td>\n",
       "      <td>-0.867708</td>\n",
       "      <td>0.027024</td>\n",
       "      <td>-0.768966</td>\n",
       "      <td>-0.758667</td>\n",
       "      <td>-0.403299</td>\n",
       "    </tr>\n",
       "    <tr>\n",
       "      <th>15240</th>\n",
       "      <td>0.0</td>\n",
       "      <td>0.0</td>\n",
       "      <td>0.0</td>\n",
       "      <td>0.0</td>\n",
       "      <td>0.0</td>\n",
       "      <td>1.0</td>\n",
       "      <td>1.0</td>\n",
       "      <td>-0.556143</td>\n",
       "      <td>-1.339840</td>\n",
       "      <td>-0.727130</td>\n",
       "      <td>-0.527043</td>\n",
       "      <td>-0.217469</td>\n",
       "      <td>-0.221550</td>\n",
       "      <td>2.069705</td>\n",
       "    </tr>\n",
       "    <tr>\n",
       "      <th>15241</th>\n",
       "      <td>0.0</td>\n",
       "      <td>0.0</td>\n",
       "      <td>1.0</td>\n",
       "      <td>0.0</td>\n",
       "      <td>0.0</td>\n",
       "      <td>0.0</td>\n",
       "      <td>1.0</td>\n",
       "      <td>0.407295</td>\n",
       "      <td>-0.013637</td>\n",
       "      <td>0.219463</td>\n",
       "      <td>0.346032</td>\n",
       "      <td>0.022729</td>\n",
       "      <td>0.067864</td>\n",
       "      <td>-0.403299</td>\n",
       "    </tr>\n",
       "    <tr>\n",
       "      <th>15242</th>\n",
       "      <td>0.0</td>\n",
       "      <td>0.0</td>\n",
       "      <td>1.0</td>\n",
       "      <td>0.0</td>\n",
       "      <td>0.0</td>\n",
       "      <td>0.0</td>\n",
       "      <td>1.0</td>\n",
       "      <td>1.425787</td>\n",
       "      <td>-0.345188</td>\n",
       "      <td>72.334381</td>\n",
       "      <td>-0.886827</td>\n",
       "      <td>1.331332</td>\n",
       "      <td>0.917931</td>\n",
       "      <td>2.069705</td>\n",
       "    </tr>\n",
       "    <tr>\n",
       "      <th>15243</th>\n",
       "      <td>0.0</td>\n",
       "      <td>0.0</td>\n",
       "      <td>0.0</td>\n",
       "      <td>0.0</td>\n",
       "      <td>0.0</td>\n",
       "      <td>1.0</td>\n",
       "      <td>0.0</td>\n",
       "      <td>-1.024098</td>\n",
       "      <td>-1.339840</td>\n",
       "      <td>-0.823721</td>\n",
       "      <td>-0.407115</td>\n",
       "      <td>0.020808</td>\n",
       "      <td>0.395960</td>\n",
       "      <td>-0.403299</td>\n",
       "    </tr>\n",
       "  </tbody>\n",
       "</table>\n",
       "<p>15244 rows × 14 columns</p>\n",
       "</div>"
      ],
      "text/plain": [
       "        0    1    2    3    4    5    6         7         8          9   \\\n",
       "0      1.0  0.0  0.0  0.0  0.0  1.0  1.0 -1.519581  0.981015   1.243329   \n",
       "1      1.0  0.0  0.0  0.0  0.0  1.0  1.0 -0.225821 -0.345188  -0.688493   \n",
       "2      1.0  0.0  0.0  0.0  0.0  1.0  1.0  1.535894  1.644117   0.084236   \n",
       "3      1.0  0.0  0.0  0.0  0.0  1.0  1.0 -1.519581  0.981015  -0.360084   \n",
       "4      0.0  0.0  1.0  0.0  0.0  0.0  1.0 -0.666250 -0.013637  -0.495311   \n",
       "...    ...  ...  ...  ...  ...  ...  ...       ...       ...        ...   \n",
       "15239  0.0  0.0  0.0  0.0  0.0  1.0  1.0  1.508367  0.981015  -0.867708   \n",
       "15240  0.0  0.0  0.0  0.0  0.0  1.0  1.0 -0.556143 -1.339840  -0.727130   \n",
       "15241  0.0  0.0  1.0  0.0  0.0  0.0  1.0  0.407295 -0.013637   0.219463   \n",
       "15242  0.0  0.0  1.0  0.0  0.0  0.0  1.0  1.425787 -0.345188  72.334381   \n",
       "15243  0.0  0.0  0.0  0.0  0.0  1.0  0.0 -1.024098 -1.339840  -0.823721   \n",
       "\n",
       "             10        11        12        13  \n",
       "0      0.000640 -1.326227 -1.265491 -0.403299  \n",
       "1     -0.191245 -0.555669 -0.433600 -0.403299  \n",
       "2     -0.646971 -0.555669 -0.480205 -0.403299  \n",
       "3      0.293264 -0.938066 -0.780804 -0.403299  \n",
       "4      0.736997  0.022729 -0.047016 -0.403299  \n",
       "...         ...       ...       ...       ...  \n",
       "15239  0.027024 -0.768966 -0.758667 -0.403299  \n",
       "15240 -0.527043 -0.217469 -0.221550  2.069705  \n",
       "15241  0.346032  0.022729  0.067864 -0.403299  \n",
       "15242 -0.886827  1.331332  0.917931  2.069705  \n",
       "15243 -0.407115  0.020808  0.395960 -0.403299  \n",
       "\n",
       "[15244 rows x 14 columns]"
      ]
     },
     "execution_count": 42,
     "metadata": {},
     "output_type": "execute_result"
    }
   ],
   "source": [
    "pd.DataFrame(X)"
   ]
  },
  {
   "cell_type": "markdown",
   "id": "0833c28c-5261-4417-bb19-670b5c9c5a35",
   "metadata": {},
   "source": [
    "# Split the data"
   ]
  },
  {
   "cell_type": "code",
   "execution_count": 45,
   "id": "7076fab7-30a2-4e00-b183-96c6432be8dc",
   "metadata": {},
   "outputs": [],
   "source": [
    "X_train, X_test, y_train, y_test = train_test_split(X,y, test_size=0.2,random_state=42)"
   ]
  },
  {
   "cell_type": "code",
   "execution_count": 47,
   "id": "9b329287-2c18-43ad-8da0-31d6f2cfe80e",
   "metadata": {},
   "outputs": [
    {
     "name": "stdout",
     "output_type": "stream",
     "text": [
      "12195\n",
      "3049\n"
     ]
    }
   ],
   "source": [
    "print(len(X_train))\n",
    "print(len(X_test))"
   ]
  },
  {
   "cell_type": "markdown",
   "id": "333fc131-09ea-4db5-b1e2-6b661c8cf889",
   "metadata": {},
   "source": [
    "# Model training and model selection"
   ]
  },
  {
   "cell_type": "code",
   "execution_count": 50,
   "id": "117df0d4-6766-4f74-9be4-fa9774ae5e41",
   "metadata": {},
   "outputs": [],
   "source": [
    "# Function to evaluate model\n",
    "def evaluate_model(true, predicted):\n",
    "    mae=mean_absolute_error(true,predicted)\n",
    "    mse=mean_squared_error(true,predicted)\n",
    "    rmse=np.sqrt(mean_squared_error(true,predicted))\n",
    "    r2_square=r2_score(true,predicted)\n",
    "    return mae, mse,rmse,r2_square"
   ]
  },
  {
   "cell_type": "code",
   "execution_count": 52,
   "id": "2457d1fa-2fe0-4967-b102-059af36d5c4c",
   "metadata": {},
   "outputs": [
    {
     "name": "stdout",
     "output_type": "stream",
     "text": [
      "AdaBoost Regressor\n",
      "Model performance for training set\n",
      "mae : 378010.70781972917\n",
      "mse : 223556825484.10468\n",
      "rmse : 472817.9623111887\n",
      "r2 : 0.7365237364296146\n",
      "Model performance for test set\n",
      "mae : 379036.0810277118\n",
      "mse : 263943009504.94583\n",
      "rmse : 513753.8413529828\n",
      "r2 : 0.5658980756187737\n",
      "linear Regression\n",
      "Model performance for training set\n",
      "mae : 275284.38995814946\n",
      "mse : 320371249674.76685\n",
      "rmse : 566013.4712838263\n",
      "r2 : 0.6224216387180521\n",
      "Model performance for test set\n",
      "mae : 262717.1886108069\n",
      "mse : 199599130834.0928\n",
      "rmse : 446765.1853424714\n",
      "r2 : 0.6717231990253705\n",
      "Lasso\n",
      "Model performance for training set\n",
      "mae : 275282.4735057536\n",
      "mse : 320371256546.31946\n",
      "rmse : 566013.477353958\n",
      "r2 : 0.6224216306194804\n",
      "Model performance for test set\n",
      "mae : 262719.99864067894\n",
      "mse : 199598832952.59692\n",
      "rmse : 446764.8519664421\n",
      "r2 : 0.671723688945262\n",
      "Rdge\n",
      "Model performance for training set\n",
      "mae : 275246.7337111309\n",
      "mse : 320371758692.06116\n",
      "rmse : 566013.9209348664\n",
      "r2 : 0.6224210388080539\n",
      "Model performance for test set\n",
      "mae : 262720.8641128101\n",
      "mse : 199594801513.30215\n",
      "rmse : 446760.34013025614\n",
      "r2 : 0.6717303193749111\n",
      "K-Neighbors Regressor\n",
      "Model performance for training set\n",
      "mae : 90965.81180811809\n",
      "mse : 93494374323.23698\n",
      "rmse : 305768.4979248794\n",
      "r2 : 0.8898107970615777\n",
      "Model performance for test set\n",
      "mae : 112712.81567727124\n",
      "mse : 104058822522.34338\n",
      "rmse : 322581.49748915137\n",
      "r2 : 0.8288564823500381\n",
      "Decision Tree\n",
      "Model performance for training set\n",
      "mae : 4798.996856635234\n",
      "mse : 387378021.04687715\n",
      "rmse : 19681.92117266191\n",
      "r2 : 0.9995434497991564\n",
      "Model performance for test set\n",
      "mae : 130420.81010167267\n",
      "mse : 111378185607.94067\n",
      "rmse : 333733.7046328115\n",
      "r2 : 0.8168184685126488\n",
      "Random Forest Regressor\n",
      "Model performance for training set\n",
      "mae : 39828.1614754932\n",
      "mse : 14785060592.6745\n",
      "rmse : 121593.8345175219\n",
      "r2 : 0.9825748441668734\n",
      "Model performance for test set\n",
      "mae : 103866.40216234876\n",
      "mse : 80114432460.11015\n",
      "rmse : 283044.93010847265\n",
      "r2 : 0.868237354090668\n"
     ]
    }
   ],
   "source": [
    "# Model training\n",
    "models = {\n",
    "    \"AdaBoost Regressor\": AdaBoostRegressor(),\n",
    "    \"linear Regression\" : LinearRegression(),\n",
    "    \"Lasso\" : Lasso(),\n",
    "    \"Rdge\" : Ridge(),\n",
    "    \"K-Neighbors Regressor\" : KNeighborsRegressor(),\n",
    "    \"Decision Tree\" : DecisionTreeRegressor(),\n",
    "    \"Random Forest Regressor\" : RandomForestRegressor()\n",
    "}\n",
    "for i in range(len(list(models))):\n",
    "    model=list(models.values())[i]\n",
    "    model.fit(X_train,y_train)\n",
    "\n",
    "    y_train_pred=model.predict(X_train)\n",
    "    y_test_pred=model.predict(X_test)\n",
    "\n",
    "    model_train_mae, model_train_mse,model_train_rmse,model_train_r2_square=evaluate_model(y_train,y_train_pred)\n",
    "    model_test_mae, model_test_mse,model_test_rmse,model_test_r2_square=evaluate_model(y_test,y_test_pred)\n",
    "\n",
    "    print(list(models.keys())[i])\n",
    "\n",
    "    print(\"Model performance for training set\")\n",
    "\n",
    "    print(\"mae :\", model_train_mae)\n",
    "    print(\"mse :\", model_train_mse)\n",
    "    print(\"rmse :\", model_train_rmse)\n",
    "    print(\"r2 :\", model_train_r2_square)\n",
    "\n",
    "    print(\"Model performance for test set\")\n",
    "\n",
    "    print(\"mae :\", model_test_mae)\n",
    "    print(\"mse :\", model_test_mse)\n",
    "    print(\"rmse :\", model_test_rmse)\n",
    "    print(\"r2 :\", model_test_r2_square)\n",
    "    "
   ]
  },
  {
   "cell_type": "markdown",
   "id": "a88bb074-24e5-4251-abf7-f21c56b10fce",
   "metadata": {},
   "source": [
    "## Knn & Random Forest"
   ]
  },
  {
   "cell_type": "code",
   "execution_count": 54,
   "id": "25070ec8-23ce-4b73-a346-09251c788e31",
   "metadata": {},
   "outputs": [],
   "source": [
    "#Hyperparameters\n",
    "knn_params = {\"n_neighbors\" : [2,3,10,20,40,50]}\n",
    "rf_params = {\"max_depth\" : [5,8,10,15,None],\n",
    "             \"max_features\" : [5,7,8, \"auto\"],\n",
    "             \"min_samples_split\" : [2,8,15,20],\n",
    "             \"n_estimators\" : [100,200,500,1000]}\n",
    "ada_params = {\"n_estimators\" : [50,60,70,80],\n",
    "              \"loss\" : [\"linear\", \"square\", \"exponential\"]}"
   ]
  },
  {
   "cell_type": "code",
   "execution_count": 56,
   "id": "291d5ec7-2f54-4c49-a04d-707363d06a13",
   "metadata": {},
   "outputs": [],
   "source": [
    "# Models list for hyperparamter training (tuple)\n",
    "randomcv_models = [('KNN', KNeighborsRegressor(), knn_params),\n",
    "                   ('RF', RandomForestRegressor(), rf_params),\n",
    "                   ('AB', AdaBoostRegressor(), ada_params)]"
   ]
  },
  {
   "cell_type": "code",
   "execution_count": 58,
   "id": "d5a06e8e-fcdc-4f8f-a748-bec75e4b6b37",
   "metadata": {},
   "outputs": [
    {
     "name": "stderr",
     "output_type": "stream",
     "text": [
      "C:\\Users\\nico_\\anaconda3\\Lib\\site-packages\\sklearn\\model_selection\\_search.py:317: UserWarning: The total space of parameters 6 is smaller than n_iter=100. Running 6 iterations. For exhaustive searches, use GridSearchCV.\n",
      "  warnings.warn(\n"
     ]
    },
    {
     "name": "stdout",
     "output_type": "stream",
     "text": [
      "Fitting 3 folds for each of 6 candidates, totalling 18 fits\n",
      "Fitting 3 folds for each of 100 candidates, totalling 300 fits\n"
     ]
    },
    {
     "name": "stderr",
     "output_type": "stream",
     "text": [
      "C:\\Users\\nico_\\anaconda3\\Lib\\site-packages\\sklearn\\model_selection\\_validation.py:528: FitFailedWarning: \n",
      "93 fits failed out of a total of 300.\n",
      "The score on these train-test partitions for these parameters will be set to nan.\n",
      "If these failures are not expected, you can try to debug them by setting error_score='raise'.\n",
      "\n",
      "Below are more details about the failures:\n",
      "--------------------------------------------------------------------------------\n",
      "48 fits failed with the following error:\n",
      "Traceback (most recent call last):\n",
      "  File \"C:\\Users\\nico_\\anaconda3\\Lib\\site-packages\\sklearn\\model_selection\\_validation.py\", line 866, in _fit_and_score\n",
      "    estimator.fit(X_train, y_train, **fit_params)\n",
      "  File \"C:\\Users\\nico_\\anaconda3\\Lib\\site-packages\\sklearn\\base.py\", line 1382, in wrapper\n",
      "    estimator._validate_params()\n",
      "  File \"C:\\Users\\nico_\\anaconda3\\Lib\\site-packages\\sklearn\\base.py\", line 436, in _validate_params\n",
      "    validate_parameter_constraints(\n",
      "  File \"C:\\Users\\nico_\\anaconda3\\Lib\\site-packages\\sklearn\\utils\\_param_validation.py\", line 98, in validate_parameter_constraints\n",
      "    raise InvalidParameterError(\n",
      "sklearn.utils._param_validation.InvalidParameterError: The 'max_features' parameter of RandomForestRegressor must be an int in the range [1, inf), a float in the range (0.0, 1.0], a str among {'sqrt', 'log2'} or None. Got 'auto' instead.\n",
      "\n",
      "--------------------------------------------------------------------------------\n",
      "45 fits failed with the following error:\n",
      "Traceback (most recent call last):\n",
      "  File \"C:\\Users\\nico_\\anaconda3\\Lib\\site-packages\\sklearn\\model_selection\\_validation.py\", line 866, in _fit_and_score\n",
      "    estimator.fit(X_train, y_train, **fit_params)\n",
      "  File \"C:\\Users\\nico_\\anaconda3\\Lib\\site-packages\\sklearn\\base.py\", line 1382, in wrapper\n",
      "    estimator._validate_params()\n",
      "  File \"C:\\Users\\nico_\\anaconda3\\Lib\\site-packages\\sklearn\\base.py\", line 436, in _validate_params\n",
      "    validate_parameter_constraints(\n",
      "  File \"C:\\Users\\nico_\\anaconda3\\Lib\\site-packages\\sklearn\\utils\\_param_validation.py\", line 98, in validate_parameter_constraints\n",
      "    raise InvalidParameterError(\n",
      "sklearn.utils._param_validation.InvalidParameterError: The 'max_features' parameter of RandomForestRegressor must be an int in the range [1, inf), a float in the range (0.0, 1.0], a str among {'log2', 'sqrt'} or None. Got 'auto' instead.\n",
      "\n",
      "  warnings.warn(some_fits_failed_message, FitFailedWarning)\n",
      "C:\\Users\\nico_\\anaconda3\\Lib\\site-packages\\sklearn\\model_selection\\_search.py:1108: UserWarning: One or more of the test scores are non-finite: [0.85439053        nan        nan 0.83190693 0.84536559 0.79507812\n",
      " 0.83728817 0.86144564        nan        nan 0.83596597        nan\n",
      " 0.83236459        nan 0.86221792 0.84508425 0.85289513        nan\n",
      " 0.84150375 0.84842882 0.84644756        nan 0.83552873 0.80286425\n",
      "        nan 0.85874311 0.86404022 0.80051904 0.84941509 0.8519547\n",
      " 0.83170003        nan 0.86619943 0.79506618        nan 0.86602829\n",
      " 0.86908092        nan        nan        nan 0.8680414  0.83062319\n",
      " 0.77623484 0.80348682        nan 0.77305356        nan 0.86655419\n",
      "        nan 0.86626542        nan 0.84203065 0.84405451        nan\n",
      " 0.86716395 0.83248745 0.83657612        nan 0.85232266 0.79597936\n",
      " 0.83936208 0.86270474        nan 0.85220754 0.84737296 0.83012015\n",
      " 0.78800976 0.85135839 0.84437335 0.85079229 0.83475372 0.84147286\n",
      " 0.799571          nan 0.84602651 0.79678973 0.83182709 0.8339377\n",
      "        nan 0.84110964        nan        nan        nan 0.84025259\n",
      " 0.78305514        nan 0.85342806 0.83098585 0.79077955 0.79405473\n",
      "        nan 0.86476994        nan        nan 0.84148376 0.83021449\n",
      " 0.79187723 0.84309149        nan 0.84135053]\n",
      "  warnings.warn(\n",
      "C:\\Users\\nico_\\anaconda3\\Lib\\site-packages\\sklearn\\model_selection\\_search.py:317: UserWarning: The total space of parameters 12 is smaller than n_iter=100. Running 12 iterations. For exhaustive searches, use GridSearchCV.\n",
      "  warnings.warn(\n"
     ]
    },
    {
     "name": "stdout",
     "output_type": "stream",
     "text": [
      "Fitting 3 folds for each of 12 candidates, totalling 36 fits\n",
      "Best params for KNN\n",
      "{'n_neighbors': 3}\n",
      "Best params for RF\n",
      "{'n_estimators': 100, 'min_samples_split': 2, 'max_features': 7, 'max_depth': None}\n",
      "Best params for AB\n",
      "{'n_estimators': 50, 'loss': 'square'}\n"
     ]
    }
   ],
   "source": [
    "# Hyperparameter tuning\n",
    "model_param = {}\n",
    "\n",
    "for name, model, params in randomcv_models:\n",
    "    random=RandomizedSearchCV(estimator=model,\n",
    "                              param_distributions=params,\n",
    "                              n_iter=100,\n",
    "                              cv=3,\n",
    "                              verbose=2,\n",
    "                              n_jobs=-1)\n",
    "\n",
    "    random.fit(X_train, y_train)\n",
    "    model_param[name] = random.best_params_\n",
    "\n",
    "for model_name in model_param:\n",
    "    print(f\"Best params for {model_name}\")\n",
    "    print(model_param[model_name])"
   ]
  },
  {
   "cell_type": "code",
   "execution_count": 60,
   "id": "124891f5-c1a1-46ae-b1b4-f38dbec35c85",
   "metadata": {},
   "outputs": [
    {
     "data": {
      "text/plain": [
       "{'KNN': {'n_neighbors': 3},\n",
       " 'RF': {'n_estimators': 100,\n",
       "  'min_samples_split': 2,\n",
       "  'max_features': 7,\n",
       "  'max_depth': None},\n",
       " 'AB': {'n_estimators': 50, 'loss': 'square'}}"
      ]
     },
     "execution_count": 60,
     "metadata": {},
     "output_type": "execute_result"
    }
   ],
   "source": [
    "model_param"
   ]
  },
  {
   "cell_type": "code",
   "execution_count": 62,
   "id": "159dd9f3-e1a6-47d5-85ff-2412ffc27fc5",
   "metadata": {},
   "outputs": [
    {
     "data": {
      "text/plain": [
       "'AB'"
      ]
     },
     "execution_count": 62,
     "metadata": {},
     "output_type": "execute_result"
    }
   ],
   "source": [
    "model_name"
   ]
  },
  {
   "cell_type": "code",
   "execution_count": 64,
   "id": "614c7b19-c010-49b9-9ffd-a06a17a53dc2",
   "metadata": {},
   "outputs": [
    {
     "data": {
      "text/plain": [
       "{'KNN': {'n_neighbors': 3},\n",
       " 'RF': {'n_estimators': 100,\n",
       "  'min_samples_split': 2,\n",
       "  'max_features': 7,\n",
       "  'max_depth': None},\n",
       " 'AB': {'n_estimators': 50, 'loss': 'square'}}"
      ]
     },
     "execution_count": 64,
     "metadata": {},
     "output_type": "execute_result"
    }
   ],
   "source": [
    "model_param"
   ]
  },
  {
   "cell_type": "code",
   "execution_count": 207,
   "id": "28235c8b-68f1-401c-9bc1-2db9a24c0b40",
   "metadata": {},
   "outputs": [
    {
     "name": "stdout",
     "output_type": "stream",
     "text": [
      "K-Neighbors Regressor\n",
      "Model performance for training set\n",
      "mae : 77891.45824791581\n",
      "mse : 65700722327.85522\n",
      "rmse : 256321.52139033354\n",
      "r2 : 0.9225674242093337\n",
      "Model performance for test set\n",
      "mae : 110499.18005903575\n",
      "mse : 86359006377.3186\n",
      "rmse : 293869.02929250407\n",
      "r2 : 0.8579670250545426\n",
      "Random Forest Regressor\n",
      "Model performance for training set\n",
      "mae : 54098.01883931636\n",
      "mse : 17132282688.970398\n",
      "rmse : 130890.3460495479\n",
      "r2 : 0.9798084902147509\n",
      "Model performance for test set\n",
      "mae : 100747.80911937074\n",
      "mse : 85308941334.82706\n",
      "rmse : 292076.9442027683\n",
      "r2 : 0.8596940465677321\n"
     ]
    }
   ],
   "source": [
    "# Retraining models with best parameters\n",
    "models = {\n",
    "    \"K-Neighbors Regressor\" : KNeighborsRegressor(n_neighbors=3),\n",
    "    \"Random Forest Regressor\" : RandomForestRegressor(n_estimators=200, min_samples_split=2, max_features=8, max_depth=15),\n",
    "    \"AdaBoost Regressor\" : AdaBoostRegressor(n_estimators= 50, loss= 'square'}\n",
    "}\n",
    "for i in range(len(list(models))):\n",
    "    model=list(models.values())[i]\n",
    "    model.fit(X_train,y_train)\n",
    "\n",
    "    y_train_pred=model.predict(X_train)\n",
    "    y_test_pred=model.predict(X_test)\n",
    "\n",
    "    model_train_mae, model_train_mse,model_train_rmse,model_train_r2_square=evaluate_model(y_train,y_train_pred)\n",
    "    model_test_mae, model_test_mse,model_test_rmse,model_test_r2_square=evaluate_model(y_test,y_test_pred)\n",
    "\n",
    "    print(list(models.keys())[i])\n",
    "\n",
    "    print(\"Model performance for training set\")\n",
    "\n",
    "    print(\"mae :\", model_train_mae)\n",
    "    print(\"mse :\", model_train_mse)\n",
    "    print(\"rmse :\", model_train_rmse)\n",
    "    print(\"r2 :\", model_train_r2_square)\n",
    "\n",
    "    print(\"Model performance for test set\")\n",
    "\n",
    "    print(\"mae :\", model_test_mae)\n",
    "    print(\"mse :\", model_test_mse)\n",
    "    print(\"rmse :\", model_test_rmse)\n",
    "    print(\"r2 :\", model_test_r2_square)"
   ]
  },
  {
   "cell_type": "code",
   "execution_count": null,
   "id": "d32a8c07-4628-4c60-a816-7e7762473760",
   "metadata": {},
   "outputs": [],
   "source": []
  }
 ],
 "metadata": {
  "kernelspec": {
   "display_name": "Python [conda env:base] *",
   "language": "python",
   "name": "conda-base-py"
  },
  "language_info": {
   "codemirror_mode": {
    "name": "ipython",
    "version": 3
   },
   "file_extension": ".py",
   "mimetype": "text/x-python",
   "name": "python",
   "nbconvert_exporter": "python",
   "pygments_lexer": "ipython3",
   "version": "3.12.7"
  }
 },
 "nbformat": 4,
 "nbformat_minor": 5
}
